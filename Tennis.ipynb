{
 "cells": [
  {
   "cell_type": "markdown",
   "metadata": {},
   "source": [
    "# Collaboration and Competition\n",
    "\n",
    "---\n",
    "\n",
    "You are welcome to use this coding environment to train your agent for the project.  Follow the instructions below to get started!\n",
    "\n",
    "### 1. Start the Environment\n",
    "\n",
    "Run the next code cell to install a few packages.  This line will take a few minutes to run!"
   ]
  },
  {
   "cell_type": "code",
   "execution_count": 1,
   "metadata": {},
   "outputs": [],
   "source": [
    "!pip -q install ./python"
   ]
  },
  {
   "cell_type": "markdown",
   "metadata": {},
   "source": [
    "The environment is already saved in the Workspace and can be accessed at the file path provided below. "
   ]
  },
  {
   "cell_type": "code",
   "execution_count": 2,
   "metadata": {},
   "outputs": [
    {
     "name": "stderr",
     "output_type": "stream",
     "text": [
      "INFO:unityagents:\n",
      "'Academy' started successfully!\n",
      "Unity Academy name: Academy\n",
      "        Number of Brains: 1\n",
      "        Number of External Brains : 1\n",
      "        Lesson number : 0\n",
      "        Reset Parameters :\n",
      "\t\t\n",
      "Unity brain name: TennisBrain\n",
      "        Number of Visual Observations (per agent): 0\n",
      "        Vector Observation space type: continuous\n",
      "        Vector Observation space size (per agent): 8\n",
      "        Number of stacked Vector Observation: 3\n",
      "        Vector Action space type: continuous\n",
      "        Vector Action space size (per agent): 2\n",
      "        Vector Action descriptions: , \n"
     ]
    }
   ],
   "source": [
    "from unityagents import UnityEnvironment\n",
    "import numpy as np\n",
    "\n",
    "env = UnityEnvironment(file_name=\"./Tennis.app\")"
   ]
  },
  {
   "cell_type": "markdown",
   "metadata": {},
   "source": [
    "Environments contain **_brains_** which are responsible for deciding the actions of their associated agents. Here we check for the first brain available, and set it as the default brain we will be controlling from Python."
   ]
  },
  {
   "cell_type": "code",
   "execution_count": 3,
   "metadata": {},
   "outputs": [],
   "source": [
    "# get the default brain\n",
    "brain_name = env.brain_names[0]\n",
    "brain = env.brains[brain_name]"
   ]
  },
  {
   "cell_type": "markdown",
   "metadata": {},
   "source": [
    "### 2. Examine the State and Action Spaces\n",
    "\n",
    "Run the code cell below to print some information about the environment."
   ]
  },
  {
   "cell_type": "code",
   "execution_count": 4,
   "metadata": {},
   "outputs": [
    {
     "name": "stdout",
     "output_type": "stream",
     "text": [
      "Number of agents: 2\n",
      "Size of each action: 2\n",
      "There are 2 agents. Each observes a state with length: 24\n",
      "The state for the first agent looks like: [ 0.          0.          0.          0.          0.          0.\n",
      "  0.          0.          0.          0.          0.          0.\n",
      "  0.          0.          0.          0.         -6.65278625 -1.5\n",
      " -0.          0.          6.83172083  6.         -0.          0.        ]\n"
     ]
    }
   ],
   "source": [
    "# reset the environment\n",
    "env_info = env.reset(train_mode=True)[brain_name]\n",
    "\n",
    "# number of agents \n",
    "num_agents = len(env_info.agents)\n",
    "print('Number of agents:', num_agents)\n",
    "\n",
    "# size of each action\n",
    "action_size = brain.vector_action_space_size\n",
    "print('Size of each action:', action_size)\n",
    "\n",
    "# examine the state space \n",
    "states = env_info.vector_observations\n",
    "state_size = states.shape[1]\n",
    "print('There are {} agents. Each observes a state with length: {}'.format(states.shape[0], state_size))\n",
    "print('The state for the first agent looks like:', states[0])"
   ]
  },
  {
   "cell_type": "markdown",
   "metadata": {},
   "source": [
    "### 3. Take Random Actions in the Environment\n",
    "\n",
    "In the next code cell, you will learn how to use the Python API to control the agent and receive feedback from the environment.\n",
    "\n",
    "Note that **in this coding environment, you will not be able to watch the agents while they are training**, and you should set `train_mode=True` to restart the environment."
   ]
  },
  {
   "cell_type": "code",
   "execution_count": 5,
   "metadata": {},
   "outputs": [
    {
     "name": "stdout",
     "output_type": "stream",
     "text": [
      "Total score (averaged over agents) this episode: -0.004999999888241291\n",
      "Total score (averaged over agents) this episode: -0.004999999888241291\n",
      "Total score (averaged over agents) this episode: -0.004999999888241291\n",
      "Total score (averaged over agents) this episode: -0.004999999888241291\n",
      "Total score (averaged over agents) this episode: 0.04500000085681677\n"
     ]
    }
   ],
   "source": [
    "for i in range(5):                                         # play game for 5 episodes\n",
    "    env_info = env.reset(train_mode=False)[brain_name]     # reset the environment    \n",
    "    states = env_info.vector_observations                  # get the current state (for each agent)\n",
    "    scores = np.zeros(num_agents)                          # initialize the score (for each agent)\n",
    "    while True:\n",
    "        actions = np.random.randn(num_agents, action_size) # select an action (for each agent)\n",
    "        actions = np.clip(actions, -1, 1)                  # all actions between -1 and 1\n",
    "        env_info = env.step(actions)[brain_name]           # send all actions to tne environment\n",
    "        next_states = env_info.vector_observations         # get next state (for each agent)\n",
    "        rewards = env_info.rewards                         # get reward (for each agent)\n",
    "        dones = env_info.local_done                        # see if episode finished\n",
    "        scores += env_info.rewards                         # update the score (for each agent)\n",
    "        states = next_states                               # roll over states to next time step\n",
    "        if np.any(dones):                                  # exit loop if episode finished\n",
    "            break\n",
    "    print('Total score (averaged over agents) this episode: {}'.format(np.mean(scores)))"
   ]
  },
  {
   "cell_type": "markdown",
   "metadata": {},
   "source": [
    "When finished, you can close the environment."
   ]
  },
  {
   "cell_type": "markdown",
   "metadata": {},
   "source": [
    "### 4. It's Your Turn!\n",
    "\n",
    "Now it's your turn to train your own agent to solve the environment!  A few **important notes**:\n",
    "- When training the environment, set `train_mode=True`, so that the line for resetting the environment looks like the following:\n",
    "```python\n",
    "env_info = env.reset(train_mode=True)[brain_name]\n",
    "```\n",
    "- To structure your work, you're welcome to work directly in this Jupyter notebook, or you might like to start over with a new file!  You can see the list of files in the workspace by clicking on **_Jupyter_** in the top left corner of the notebook.\n",
    "- In this coding environment, you will not be able to watch the agents while they are training.  However, **_after training the agents_**, you can download the saved model weights to watch the agents on your own machine! "
   ]
  },
  {
   "cell_type": "code",
   "execution_count": 6,
   "metadata": {},
   "outputs": [],
   "source": [
    "import random\n",
    "import math\n",
    "import torch\n",
    "import numpy as np\n",
    "from collections import deque\n",
    "import matplotlib.pyplot as plt\n",
    "%matplotlib inline\n",
    "\n",
    "from agent import Agent"
   ]
  },
  {
   "cell_type": "code",
   "execution_count": 7,
   "metadata": {},
   "outputs": [],
   "source": [
    "def maddpg(n_episodes=5000, max_t=1000, print_every=50, train_mode=True,\n",
    "         actor_ckpt_path='checkpoints/actor_checkpoint.pth', critic_ckpt_path='checkpoints/critic_checkpoint.pth'):\n",
    "    \n",
    "    scores_deque = deque(maxlen=100)\n",
    "    scores_list = []\n",
    "    rolling_avgs = []\n",
    "    max_score = 0\n",
    "    \n",
    "    for i_episode in range(1, n_episodes + 1):\n",
    "        \n",
    "        env_info = env.reset(train_mode=train_mode)[brain_name]     \n",
    "        states = env_info.vector_observations                 \n",
    "        scores = np.zeros(num_agents)                         \n",
    "        \n",
    "        agent.reset()\n",
    "        \n",
    "        for t in range(max_t):\n",
    "            actions = agent.act(states)\n",
    "            \n",
    "            env_info = env.step(actions)[brain_name]           \n",
    "            next_states = env_info.vector_observations         # get all next states for each agents\n",
    "            rewards = env_info.rewards                         # get all rewards for each agents\n",
    "            dones = env_info.local_done                        # get all finished status for each agent\n",
    "            \n",
    "            agent.step(states, actions, rewards, next_states, dones)\n",
    "            \n",
    "            states = next_states                               \n",
    "            scores += rewards                        \n",
    "            \n",
    "            if np.any(dones): \n",
    "                break\n",
    "                \n",
    "        scores_deque.append(np.max(scores))\n",
    "        scores_list.append(np.max(scores))\n",
    "        \n",
    "        rolling_avg = np.mean(scores_deque) # calculate average from score window\n",
    "        rolling_avgs.append(rolling_avg)\n",
    "        \n",
    "        print('\\rEpisode {}\\tAverage Score: {:.4f}'.format(i_episode, rolling_avg), end=\"\")\n",
    "                \n",
    "        if i_episode % print_every == 0:\n",
    "            print('\\rEpisode {}\\tAverage Score: {:.4f}'.format(i_episode, rolling_avg))\n",
    "                        \n",
    "        if rolling_avg >= 0.5:\n",
    "            print('\\nProblem Solved in {} episodes.\\tAverage Score: {:.4f}'.format(i_episode, rolling_avg))\n",
    "            torch.save(agent.actor_local.state_dict(), actor_ckpt_path)\n",
    "            torch.save(agent.critic_local.state_dict(), critic_ckpt_path)\n",
    "            break\n",
    "            \n",
    "    return scores_list, rolling_avgs"
   ]
  },
  {
   "cell_type": "code",
   "execution_count": 8,
   "metadata": {},
   "outputs": [],
   "source": [
    "methods = [\n",
    "    { 'label': 'MADDPG (64 nodes)', 'nodes': 64, 'save_name': 'maddpg_64_checkpoint' },\n",
    "    { 'label': 'MADDPG (128 nodes)', 'nodes': 128, 'save_name': 'maddpg_128_checkpoint' },\n",
    "    { 'label': 'MADDPG (256 nodes)', 'nodes': 256, 'save_name': 'maddpg_256_checkpoint' },\n",
    "    { 'label': 'MADDPG (512 nodes)', 'nodes': 512, 'save_name': 'maddpg_512_checkpoint' },\n",
    "]"
   ]
  },
  {
   "cell_type": "code",
   "execution_count": 9,
   "metadata": {},
   "outputs": [
    {
     "name": "stdout",
     "output_type": "stream",
     "text": [
      "Starting MADDPG (64 nodes)\n",
      "Episode 50\tAverage Score: 0.0020\n",
      "Episode 100\tAverage Score: 0.0010\n",
      "Episode 150\tAverage Score: 0.0000\n",
      "Episode 200\tAverage Score: 0.0000\n",
      "Episode 250\tAverage Score: 0.0000\n",
      "Episode 300\tAverage Score: 0.0000\n",
      "Episode 350\tAverage Score: 0.0000\n",
      "Episode 400\tAverage Score: 0.0000\n",
      "Episode 450\tAverage Score: 0.0000\n",
      "Episode 500\tAverage Score: 0.0000\n",
      "Episode 550\tAverage Score: 0.0107\n",
      "Episode 600\tAverage Score: 0.0107\n",
      "Episode 650\tAverage Score: 0.0000\n",
      "Episode 700\tAverage Score: 0.0000\n",
      "Episode 750\tAverage Score: 0.0000\n",
      "Episode 800\tAverage Score: 0.0000\n",
      "Episode 850\tAverage Score: 0.0000\n",
      "Episode 900\tAverage Score: 0.0000\n",
      "Episode 950\tAverage Score: 0.0000\n",
      "Episode 1000\tAverage Score: 0.0000\n",
      "Episode 1050\tAverage Score: 0.0000\n",
      "Episode 1100\tAverage Score: 0.0000\n",
      "Episode 1150\tAverage Score: 0.0000\n",
      "Episode 1200\tAverage Score: 0.0000\n",
      "Episode 1250\tAverage Score: 0.0010\n",
      "Episode 1300\tAverage Score: 0.0039\n",
      "Episode 1350\tAverage Score: 0.0066\n",
      "Episode 1400\tAverage Score: 0.0095\n",
      "Episode 1450\tAverage Score: 0.0058\n",
      "Episode 1500\tAverage Score: 0.0028\n",
      "Episode 1550\tAverage Score: 0.0105\n",
      "Episode 1600\tAverage Score: 0.0077\n",
      "Episode 1650\tAverage Score: 0.0000\n",
      "Episode 1700\tAverage Score: 0.0000\n",
      "Episode 1750\tAverage Score: 0.0010\n",
      "Episode 1800\tAverage Score: 0.0010\n",
      "Episode 1850\tAverage Score: 0.0089\n",
      "Episode 1900\tAverage Score: 0.0543\n",
      "Episode 1950\tAverage Score: 0.0941\n",
      "Episode 2000\tAverage Score: 0.0979\n",
      "Episode 2050\tAverage Score: 0.1053\n",
      "Episode 2100\tAverage Score: 0.0909\n",
      "Episode 2150\tAverage Score: 0.0357\n",
      "Episode 2200\tAverage Score: 0.0009\n",
      "Episode 2250\tAverage Score: 0.0000\n",
      "Episode 2300\tAverage Score: 0.0000\n",
      "Episode 2350\tAverage Score: 0.0000\n",
      "Episode 2400\tAverage Score: 0.0000\n",
      "Episode 2450\tAverage Score: 0.0252\n",
      "Episode 2500\tAverage Score: 0.0252\n",
      "Episode 2550\tAverage Score: 0.0000\n",
      "Episode 2600\tAverage Score: 0.0318\n",
      "Episode 2650\tAverage Score: 0.0796\n",
      "Episode 2700\tAverage Score: 0.0807\n",
      "Episode 2750\tAverage Score: 0.0358\n",
      "Episode 2800\tAverage Score: 0.0029\n",
      "Episode 2850\tAverage Score: 0.0000\n",
      "Episode 2900\tAverage Score: 0.0352\n",
      "Episode 2950\tAverage Score: 0.0735\n",
      "Episode 3000\tAverage Score: 0.0844\n",
      "Episode 3050\tAverage Score: 0.0935\n",
      "Episode 3100\tAverage Score: 0.0826\n",
      "Episode 3150\tAverage Score: 0.0499\n",
      "Episode 3200\tAverage Score: 0.0367\n",
      "Episode 3250\tAverage Score: 0.0545\n",
      "Episode 3300\tAverage Score: 0.1206\n",
      "Episode 3350\tAverage Score: 0.1515\n",
      "Episode 3400\tAverage Score: 0.3631\n",
      "Episode 3450\tAverage Score: 0.4847\n",
      "Episode 3500\tAverage Score: 0.2850\n",
      "Episode 3524\tAverage Score: 0.5170\n",
      "Problem Solved in 3524 episodes.\tAverage Score: 0.5170\n",
      "Starting MADDPG (128 nodes)\n",
      "Episode 50\tAverage Score: 0.0040\n",
      "Episode 100\tAverage Score: 0.0029\n",
      "Episode 150\tAverage Score: 0.0028\n",
      "Episode 200\tAverage Score: 0.0019\n",
      "Episode 250\tAverage Score: 0.0000\n",
      "Episode 300\tAverage Score: 0.0000\n",
      "Episode 350\tAverage Score: 0.0000\n",
      "Episode 400\tAverage Score: 0.0000\n",
      "Episode 450\tAverage Score: 0.0000\n",
      "Episode 500\tAverage Score: 0.0000\n",
      "Episode 550\tAverage Score: 0.0000\n",
      "Episode 600\tAverage Score: 0.0000\n",
      "Episode 650\tAverage Score: 0.0000\n",
      "Episode 700\tAverage Score: 0.0000\n",
      "Episode 750\tAverage Score: 0.0000\n",
      "Episode 800\tAverage Score: 0.0000\n",
      "Episode 850\tAverage Score: 0.0000\n",
      "Episode 900\tAverage Score: 0.0000\n",
      "Episode 950\tAverage Score: 0.0010\n",
      "Episode 1000\tAverage Score: 0.0352\n",
      "Episode 1050\tAverage Score: 0.0526\n",
      "Episode 1100\tAverage Score: 0.0331\n",
      "Episode 1150\tAverage Score: 0.0593\n",
      "Episode 1200\tAverage Score: 0.0886\n",
      "Episode 1250\tAverage Score: 0.0910\n",
      "Episode 1300\tAverage Score: 0.1162\n",
      "Episode 1350\tAverage Score: 0.1160\n",
      "Episode 1400\tAverage Score: 0.0917\n",
      "Episode 1450\tAverage Score: 0.0875\n",
      "Episode 1500\tAverage Score: 0.0866\n",
      "Episode 1550\tAverage Score: 0.0864\n",
      "Episode 1600\tAverage Score: 0.0834\n",
      "Episode 1650\tAverage Score: 0.1108\n",
      "Episode 1700\tAverage Score: 0.1317\n",
      "Episode 1750\tAverage Score: 0.1653\n",
      "Episode 1800\tAverage Score: 0.1645\n",
      "Episode 1850\tAverage Score: 0.1543\n",
      "Episode 1900\tAverage Score: 0.2071\n",
      "Episode 1950\tAverage Score: 0.2222\n",
      "Episode 2000\tAverage Score: 0.3101\n",
      "Episode 2050\tAverage Score: 0.4020\n",
      "Episode 2100\tAverage Score: 0.3314\n",
      "Episode 2150\tAverage Score: 0.1949\n",
      "Episode 2200\tAverage Score: 0.1420\n",
      "Episode 2250\tAverage Score: 0.3884\n",
      "Episode 2273\tAverage Score: 0.5087\n",
      "Problem Solved in 2273 episodes.\tAverage Score: 0.5087\n",
      "Starting MADDPG (256 nodes)\n",
      "Episode 50\tAverage Score: 0.0116\n",
      "Episode 100\tAverage Score: 0.0058\n",
      "Episode 150\tAverage Score: 0.0000\n",
      "Episode 200\tAverage Score: 0.0000\n",
      "Episode 250\tAverage Score: 0.0000\n",
      "Episode 300\tAverage Score: 0.0000\n",
      "Episode 350\tAverage Score: 0.0000\n",
      "Episode 400\tAverage Score: 0.0000\n",
      "Episode 450\tAverage Score: 0.0028\n",
      "Episode 500\tAverage Score: 0.0095\n",
      "Episode 550\tAverage Score: 0.0067\n",
      "Episode 600\tAverage Score: 0.0000\n",
      "Episode 650\tAverage Score: 0.0000\n",
      "Episode 700\tAverage Score: 0.0000\n",
      "Episode 750\tAverage Score: 0.0126\n",
      "Episode 800\tAverage Score: 0.0296\n",
      "Episode 850\tAverage Score: 0.0376\n",
      "Episode 900\tAverage Score: 0.0206\n",
      "Episode 950\tAverage Score: 0.0108\n",
      "Episode 1000\tAverage Score: 0.0623\n",
      "Episode 1050\tAverage Score: 0.1120\n",
      "Episode 1100\tAverage Score: 0.1200\n",
      "Episode 1150\tAverage Score: 0.1764\n",
      "Episode 1200\tAverage Score: 0.3925\n",
      "Episode 1250\tAverage Score: 0.3205\n",
      "Episode 1300\tAverage Score: 0.0767\n",
      "Episode 1350\tAverage Score: 0.2032\n",
      "Episode 1400\tAverage Score: 0.2798\n",
      "Episode 1450\tAverage Score: 0.1583\n",
      "Episode 1500\tAverage Score: 0.1039\n",
      "Episode 1550\tAverage Score: 0.1418\n",
      "Episode 1600\tAverage Score: 0.1847\n",
      "Episode 1650\tAverage Score: 0.1614\n",
      "Episode 1700\tAverage Score: 0.1583\n",
      "Episode 1750\tAverage Score: 0.1894\n",
      "Episode 1800\tAverage Score: 0.4393\n",
      "Episode 1837\tAverage Score: 0.5055\n",
      "Problem Solved in 1837 episodes.\tAverage Score: 0.5055\n",
      "Starting MADDPG (512 nodes)\n",
      "Episode 50\tAverage Score: 0.0020\n",
      "Episode 100\tAverage Score: 0.0020\n",
      "Episode 150\tAverage Score: 0.0010\n",
      "Episode 200\tAverage Score: 0.0000\n",
      "Episode 250\tAverage Score: 0.0000\n",
      "Episode 300\tAverage Score: 0.0000\n",
      "Episode 350\tAverage Score: 0.0000\n",
      "Episode 400\tAverage Score: 0.0000\n",
      "Episode 450\tAverage Score: 0.0000\n",
      "Episode 500\tAverage Score: 0.0000\n",
      "Episode 550\tAverage Score: 0.0000\n",
      "Episode 600\tAverage Score: 0.0010\n",
      "Episode 650\tAverage Score: 0.0050\n",
      "Episode 700\tAverage Score: 0.0040\n",
      "Episode 750\tAverage Score: 0.0000\n",
      "Episode 800\tAverage Score: 0.0000\n",
      "Episode 850\tAverage Score: 0.0000\n",
      "Episode 900\tAverage Score: 0.0000\n",
      "Episode 950\tAverage Score: 0.0000\n",
      "Episode 1000\tAverage Score: 0.0000\n",
      "Episode 1050\tAverage Score: 0.0000\n",
      "Episode 1100\tAverage Score: 0.0000\n",
      "Episode 1150\tAverage Score: 0.0000\n",
      "Episode 1200\tAverage Score: 0.0000\n",
      "Episode 1250\tAverage Score: 0.0000\n",
      "Episode 1300\tAverage Score: 0.0000\n",
      "Episode 1350\tAverage Score: 0.0000\n",
      "Episode 1400\tAverage Score: 0.0000\n",
      "Episode 1450\tAverage Score: 0.0000\n",
      "Episode 1500\tAverage Score: 0.0000\n",
      "Episode 1550\tAverage Score: 0.0000\n",
      "Episode 1600\tAverage Score: 0.0000\n",
      "Episode 1650\tAverage Score: 0.0000\n",
      "Episode 1700\tAverage Score: 0.0000\n",
      "Episode 1750\tAverage Score: 0.0145\n",
      "Episode 1800\tAverage Score: 0.0418\n",
      "Episode 1850\tAverage Score: 0.0657\n",
      "Episode 1900\tAverage Score: 0.0693\n",
      "Episode 1950\tAverage Score: 0.0606\n",
      "Episode 2000\tAverage Score: 0.0656\n",
      "Episode 2050\tAverage Score: 0.0933\n",
      "Episode 2100\tAverage Score: 0.1320\n",
      "Episode 2150\tAverage Score: 0.1474\n",
      "Episode 2200\tAverage Score: 0.1918\n",
      "Episode 2250\tAverage Score: 0.1250\n",
      "Episode 2300\tAverage Score: 0.1010\n",
      "Episode 2350\tAverage Score: 0.2045\n",
      "Episode 2400\tAverage Score: 0.2010\n",
      "Episode 2450\tAverage Score: 0.2356\n",
      "Episode 2487\tAverage Score: 0.5153\n",
      "Problem Solved in 2487 episodes.\tAverage Score: 0.5153\n"
     ]
    }
   ],
   "source": [
    "data = []\n",
    "for ii in range(len(methods)):\n",
    "    method = methods[ii]\n",
    "    print('Starting {}'.format(method['label']))\n",
    "        \n",
    "    # Reset environment\n",
    "    env_info = env.reset(train_mode=True)[brain_name]\n",
    "\n",
    "    # Train the agent\n",
    "    agent = Agent(\n",
    "        state_size=state_size,\n",
    "        action_size=action_size,\n",
    "        n_agents=num_agents,\n",
    "        random_seed=0,\n",
    "        layer_1=method['nodes'],\n",
    "        layer_2=method['nodes'],\n",
    "    )\n",
    "\n",
    "    scores, avgs = maddpg(\n",
    "        n_episodes=5000,\n",
    "        max_t=1000,\n",
    "        print_every=50,\n",
    "        actor_ckpt_path=\"checkpoints/{}_actor.pth\".format(method['save_name']),\n",
    "        critic_ckpt_path=\"checkpoints/{}_critic.pth\".format(method['save_name'])\n",
    "    )\n",
    "\n",
    "    data.append({\n",
    "        \"title\": method['label'],\n",
    "        \"scores\": scores,\n",
    "        \"avgs\": avgs,\n",
    "    })"
   ]
  },
  {
   "cell_type": "code",
   "execution_count": 26,
   "metadata": {},
   "outputs": [
    {
     "data": {
      "image/png": "[encoded data removed]",
      "text/plain": [
       "<Figure size 1000x1000 with 4 Axes>"
      ]
     },
     "metadata": {
      "needs_background": "light"
     },
     "output_type": "display_data"
    }
   ],
   "source": [
    "fig, axs = plt.subplots(4, 1, figsize=(10, 10), dpi=100, sharex=True, sharey=True)\n",
    "fig.suptitle('Various configurations', fontsize=16)\n",
    "fig.text(0.5, 0.04, 'Episode #', ha='center')\n",
    "fig.text(0.04, 0.5, 'Score', va='center', rotation='vertical')\n",
    "\n",
    "for ii in range(len(data)):\n",
    "    axs[ii].plot(np.arange(len(data[ii]['scores'])), data[ii]['scores'], label=data[ii]['title'])\n",
    "    axs[ii].plot(np.arange(len(data[ii]['avgs'])), data[ii]['avgs'], c='r', label='average')\n",
    "\n",
    "    axs[ii].legend(loc='upper left');"
   ]
  },
  {
   "cell_type": "markdown",
   "metadata": {},
   "source": [
    "#### Run the best agent"
   ]
  },
  {
   "cell_type": "code",
   "execution_count": 7,
   "metadata": {},
   "outputs": [],
   "source": [
    "# Create agent\n",
    "agent = Agent(\n",
    "        state_size=state_size,\n",
    "        action_size=action_size,\n",
    "        n_agents=num_agents,\n",
    "        random_seed=0,\n",
    "        layer_1=256,\n",
    "        layer_2=256,\n",
    "    )"
   ]
  },
  {
   "cell_type": "code",
   "execution_count": 9,
   "metadata": {},
   "outputs": [],
   "source": [
    "# Load saved weights\n",
    "checkpoint = './best_agent_maddqg_256_checkpoint.pth'\n",
    "agent.actor_local.load_state_dict(torch.load(checkpoint))"
   ]
  },
  {
   "cell_type": "code",
   "execution_count": 10,
   "metadata": {},
   "outputs": [
    {
     "name": "stdout",
     "output_type": "stream",
     "text": [
      "Episode 1\tAverage Score: 0.00\n",
      "Episode 2\tAverage Score: 0.00\n",
      "Episode 3\tAverage Score: 0.00\n",
      "Episode 4\tAverage Score: 0.00\n",
      "Episode 5\tAverage Score: 0.00\n",
      "Episode 6\tAverage Score: -0.00\n",
      "Episode 7\tAverage Score: -0.00\n",
      "Episode 8\tAverage Score: -0.00\n",
      "Episode 9\tAverage Score: -0.00\n",
      "Episode 10\tAverage Score: -0.00\n",
      "Episode 11\tAverage Score: -0.00\n",
      "Episode 12\tAverage Score: -0.00\n",
      "Episode 13\tAverage Score: -0.00\n",
      "Episode 14\tAverage Score: -0.00\n",
      "Episode 15\tAverage Score: -0.00\n",
      "Episode 16\tAverage Score: -0.00\n",
      "Episode 17\tAverage Score: -0.00\n",
      "Episode 18\tAverage Score: -0.00\n",
      "Episode 19\tAverage Score: -0.00\n",
      "Episode 20\tAverage Score: -0.00\n"
     ]
    },
    {
     "data": {
      "image/png": "[encoded data removed]",
      "text/plain": [
       "<Figure size 432x288 with 1 Axes>"
      ]
     },
     "metadata": {
      "needs_background": "light"
     },
     "output_type": "display_data"
    }
   ],
   "source": [
    "num_episodes = 20\n",
    "scores = []\n",
    "for i_episode in range(1,num_episodes + 1):\n",
    "    env_info = env.reset(train_mode=False)[brain_name] # reset the environment\n",
    "    states = env_info.vector_observations             # get the current state\n",
    "    score = 0                                          # initialize the score\n",
    "    while True:\n",
    "        action = agent.act(states)               # select an action\n",
    "        env_info = env.step(action)[brain_name]        # send the action to the environment\n",
    "        next_state = env_info.vector_observations[0]   # get the next state\n",
    "        reward = env_info.rewards[0]                   # get the reward\n",
    "        done = env_info.local_done[0]                  # see if episode has finished\n",
    "\n",
    "        score += reward                                # update the score\n",
    "        state = next_state                             # roll over the state to next time step\n",
    "        if done:                                       # exit loop if episode finished\n",
    "            scores.append(score)\n",
    "            print('\\rEpisode {}\\tAverage Score: {:.2f}'.format(i_episode, np.mean(scores)))\n",
    "            break\n",
    "\n",
    "# plot the scores\n",
    "fig = plt.figure()\n",
    "ax = fig.add_subplot(111)\n",
    "plt.plot(np.arange(len(scores)), scores)\n",
    "plt.ylabel('Score')\n",
    "plt.xlabel('Episode #')\n",
    "plt.show()"
   ]
  },
  {
   "cell_type": "code",
   "execution_count": 11,
   "metadata": {},
   "outputs": [],
   "source": [
    "env.close()"
   ]
  },
  {
   "cell_type": "code",
   "execution_count": null,
   "metadata": {},
   "outputs": [],
   "source": []
  }
 ],
 "metadata": {
  "kernelspec": {
   "display_name": "drlnd",
   "language": "python",
   "name": "drlnd"
  },
  "language_info": {
   "codemirror_mode": {
    "name": "ipython",
    "version": 3
   },
   "file_extension": ".py",
   "mimetype": "text/x-python",
   "name": "python",
   "nbconvert_exporter": "python",
   "pygments_lexer": "ipython3",
   "version": "3.6.13"
  }
 },
 "nbformat": 4,
 "nbformat_minor": 2
}
